{
 "cells": [
  {
   "cell_type": "code",
   "execution_count": 1,
   "metadata": {
    "collapsed": true
   },
   "outputs": [],
   "source": [
    "import pandas as pd\n",
    "import numpy as np\n",
    "import chess.pgn\n",
    "\n",
    "from sklearn.model_selection import train_test_split\n",
    "from sklearn.linear_model import LinearRegression\n",
    "from sklearn.metrics import mean_absolute_error\n",
    "from sklearn.preprocessing import LabelEncoder, OneHotEncoder\n"
   ]
  },
  {
   "cell_type": "code",
   "execution_count": 71,
   "metadata": {},
   "outputs": [
    {
     "name": "stdout",
     "output_type": "stream",
     "text": [
      "(50000, 2)\n"
     ]
    }
   ],
   "source": [
    "data = pd.read_csv('stockfish.csv', sep=',')\n",
    "print(data.shape)"
   ]
  },
  {
   "cell_type": "code",
   "execution_count": 23,
   "metadata": {
    "collapsed": true
   },
   "outputs": [],
   "source": [
    "pgn = open('data.pgn')\n",
    "y_white = []\n",
    "y_black = []\n",
    "for i in range(25000):\n",
    "    game = chess.pgn.read_game(pgn)\n",
    "    y_white.append(game.headers['WhiteElo'])\n",
    "    y_black.append(game.headers['BlackElo'])"
   ]
  },
  {
   "cell_type": "code",
   "execution_count": 24,
   "metadata": {
    "collapsed": true
   },
   "outputs": [],
   "source": [
    "copy_y_white = y_white.copy()\n",
    "copy_y_black = y_black. copy()"
   ]
  },
  {
   "cell_type": "code",
   "execution_count": 25,
   "metadata": {
    "collapsed": true
   },
   "outputs": [],
   "source": [
    "y_white = copy_y_white.copy()\n",
    "y_black = copy_y_black.copy()"
   ]
  },
  {
   "cell_type": "code",
   "execution_count": 26,
   "metadata": {
    "collapsed": true
   },
   "outputs": [],
   "source": [
    "matches = data.values[:, 1]\n",
    "X_white = []\n",
    "X_black = []\n",
    "for match in matches[:25000]:\n",
    "    match = match.replace('NA', '')\n",
    "    parsed = np.fromstring(match, sep=' ', dtype=int)\n",
    "    if len(parsed) < 3:\n",
    "        del y_white[len(X_white)]\n",
    "        del y_black[len(X_white)]\n",
    "    else:\n",
    "        white = parsed[0::2]\n",
    "        black = -1 * parsed[1::2]\n",
    "        X_white.append([white.min(), white.max(), white.mean(), white.std()])\n",
    "        X_black.append([black.min(), black.max(), black.mean(), black.std()])\n",
    "        \n",
    "    "
   ]
  },
  {
   "cell_type": "code",
   "execution_count": 27,
   "metadata": {},
   "outputs": [
    {
     "name": "stdout",
     "output_type": "stream",
     "text": [
      "24972 24972\n"
     ]
    }
   ],
   "source": [
    "print(len(y_white), len(X_white))"
   ]
  },
  {
   "cell_type": "code",
   "execution_count": 28,
   "metadata": {
    "collapsed": true
   },
   "outputs": [],
   "source": [
    "for i in range(len(X_white)):\n",
    "    if np.isnan(X_white[i]).any() or np.isnan(X_black[i]).any():\n",
    "        print(X_black[i])"
   ]
  },
  {
   "cell_type": "code",
   "execution_count": 29,
   "metadata": {
    "collapsed": true
   },
   "outputs": [],
   "source": [
    "X_train, X_test, y_train, y_test = train_test_split((X_white+X_black), (y_white+y_black), test_size=0.3, random_state=1)"
   ]
  },
  {
   "cell_type": "code",
   "execution_count": 30,
   "metadata": {},
   "outputs": [
    {
     "data": {
      "text/plain": [
       "(34960, 14984)"
      ]
     },
     "execution_count": 30,
     "metadata": {},
     "output_type": "execute_result"
    }
   ],
   "source": [
    "len(X_train), len(X_test)"
   ]
  },
  {
   "cell_type": "code",
   "execution_count": 31,
   "metadata": {},
   "outputs": [
    {
     "data": {
      "text/plain": [
       "array([1981, 2615, 1955, ..., 1716, 1883, 2571])"
      ]
     },
     "execution_count": 31,
     "metadata": {},
     "output_type": "execute_result"
    }
   ],
   "source": [
    "y_train = np.array(list(map(int, y_train)))\n",
    "y_train = y_train.reshape((len(y_train), ))\n",
    "y_train"
   ]
  },
  {
   "cell_type": "code",
   "execution_count": 32,
   "metadata": {},
   "outputs": [
    {
     "data": {
      "text/plain": [
       "(False, False)"
      ]
     },
     "execution_count": 32,
     "metadata": {},
     "output_type": "execute_result"
    }
   ],
   "source": [
    "np.isnan(X_train).any(), np.isnan(y_train).any()"
   ]
  },
  {
   "cell_type": "code",
   "execution_count": 33,
   "metadata": {},
   "outputs": [
    {
     "data": {
      "text/plain": [
       "LinearRegression(copy_X=True, fit_intercept=True, n_jobs=1, normalize=False)"
      ]
     },
     "execution_count": 33,
     "metadata": {},
     "output_type": "execute_result"
    }
   ],
   "source": [
    "m = LinearRegression()\n",
    "m.fit(X_train, y_train)"
   ]
  },
  {
   "cell_type": "code",
   "execution_count": 34,
   "metadata": {
    "collapsed": true
   },
   "outputs": [],
   "source": [
    "y_test = np.array(list(map(int, y_test)))"
   ]
  },
  {
   "cell_type": "code",
   "execution_count": 35,
   "metadata": {},
   "outputs": [
    {
     "data": {
      "text/plain": [
       "210.04339391734118"
      ]
     },
     "execution_count": 35,
     "metadata": {},
     "output_type": "execute_result"
    }
   ],
   "source": [
    "y_pred = m.predict(X_test)\n",
    "mean_absolute_error(y_pred, y_test)"
   ]
  },
  {
   "cell_type": "code",
   "execution_count": 36,
   "metadata": {},
   "outputs": [
    {
     "data": {
      "text/plain": [
       "array([-0.02814548,  0.01471871,  0.25746884, -0.18637048])"
      ]
     },
     "execution_count": 36,
     "metadata": {},
     "output_type": "execute_result"
    }
   ],
   "source": [
    "m.coef_"
   ]
  },
  {
   "cell_type": "markdown",
   "metadata": {},
   "source": [
    "# Send result"
   ]
  },
  {
   "cell_type": "code",
   "execution_count": 111,
   "metadata": {},
   "outputs": [
    {
     "data": {
      "text/plain": [
       "LinearRegression(copy_X=True, fit_intercept=True, n_jobs=1, normalize=False)"
      ]
     },
     "execution_count": 111,
     "metadata": {},
     "output_type": "execute_result"
    }
   ],
   "source": [
    "m2 = LinearRegression()\n",
    "m2.fit((X_white+X_black), (y_white+y_black))"
   ]
  },
  {
   "cell_type": "code",
   "execution_count": 65,
   "metadata": {
    "collapsed": true
   },
   "outputs": [],
   "source": [
    "X_test = []\n",
    "for match in matches[25000:]:\n",
    "    match = match.replace('NA', '')\n",
    "    parsed = np.fromstring(match, sep=' ', dtype=int)\n",
    "    if len(parsed) > 1:\n",
    "        white = parsed[0::2]\n",
    "        black = -1 * parsed[1::2]\n",
    "        X_test.append([white.min(), white.max(), white.mean(), white.std()])\n",
    "        X_test.append([black.min(), black.max(), black.mean(), black.std()])\n",
    "    else:\n",
    "        X_test.append(X_test[-2])\n",
    "        X_test.append(X_test[-1])"
   ]
  },
  {
   "cell_type": "code",
   "execution_count": 66,
   "metadata": {},
   "outputs": [
    {
     "data": {
      "text/plain": [
       "50000"
      ]
     },
     "execution_count": 66,
     "metadata": {},
     "output_type": "execute_result"
    }
   ],
   "source": [
    "len(X_test)"
   ]
  },
  {
   "cell_type": "code",
   "execution_count": 67,
   "metadata": {
    "collapsed": true
   },
   "outputs": [],
   "source": [
    "y_pred2 = m2.predict(X_test)"
   ]
  },
  {
   "cell_type": "code",
   "execution_count": 68,
   "metadata": {},
   "outputs": [
    {
     "data": {
      "text/plain": [
       "(25000, 25000, 25000)"
      ]
     },
     "execution_count": 68,
     "metadata": {},
     "output_type": "execute_result"
    }
   ],
   "source": [
    "len(list(range(25001, 50001))), len(y_pred2[::2]), len(y_pred2[1::2])"
   ]
  },
  {
   "cell_type": "code",
   "execution_count": 69,
   "metadata": {
    "collapsed": true
   },
   "outputs": [],
   "source": [
    "df = pd.DataFrame({'Event': list(range(25001, 50001)), 'WhiteElo': y_pred2[::2], 'BlackElo':y_pred2[1::2]})\n",
    "df.to_csv(\"result1.csv\", index=None, columns=['Event', 'WhiteElo', 'BlackElo'])"
   ]
  },
  {
   "cell_type": "code",
   "execution_count": 70,
   "metadata": {},
   "outputs": [
    {
     "data": {
      "text/plain": [
       "1159.2920880034371"
      ]
     },
     "execution_count": 70,
     "metadata": {},
     "output_type": "execute_result"
    }
   ],
   "source": [
    "min(y_pred2)"
   ]
  },
  {
   "cell_type": "markdown",
   "metadata": {},
   "source": [
    "# using deltas as feature"
   ]
  },
  {
   "cell_type": "code",
   "execution_count": 44,
   "metadata": {
    "collapsed": true
   },
   "outputs": [],
   "source": [
    "matches_data = pd.read_csv('stockfish.csv', sep=',')\n",
    "delta_data = pd.read_csv('deltas2.csv', sep=',')\n",
    "y = pd.read_csv('y.csv', sep=',')\n",
    "y_white = list(y.values[:, 0])\n",
    "y_black = list(y.values[:, 1])\n",
    "result = list(y.values[:, 2]) + list(y.values[:, 3])"
   ]
  },
  {
   "cell_type": "code",
   "execution_count": 2,
   "metadata": {
    "collapsed": true
   },
   "outputs": [],
   "source": [
    "pgn = open('data.pgn')\n",
    "y_white = []\n",
    "y_black = []\n",
    "result = []\n",
    "for i in range(25000):\n",
    "    game = chess.pgn.read_game(pgn)\n",
    "    y_white.append(game.headers['WhiteElo'])\n",
    "    y_black.append(game.headers['BlackElo'])\n",
    "    result.append(game.headers['Result'])\n",
    "for i in range(25000):\n",
    "    game = chess.pgn.read_game(pgn)\n",
    "    result.append(game.headers['Result'])"
   ]
  },
  {
   "cell_type": "code",
   "execution_count": 45,
   "metadata": {
    "collapsed": true
   },
   "outputs": [],
   "source": [
    "df = pd.DataFrame({'y_white': y_white, 'y_black': y_black, 'result_train': result[:25000], 'result_test': result[25000:]})\n",
    "df.to_csv(\"y.csv\", index=None, columns=['y_white', 'y_black', 'result_train', 'result_test'])"
   ]
  },
  {
   "cell_type": "code",
   "execution_count": 5,
   "metadata": {},
   "outputs": [
    {
     "data": {
      "text/plain": [
       "25000"
      ]
     },
     "execution_count": 5,
     "metadata": {},
     "output_type": "execute_result"
    }
   ],
   "source": [
    "copy_y_white = y_white.copy()\n",
    "copy_y_black = y_black. copy()\n",
    "len(y_white)"
   ]
  },
  {
   "cell_type": "code",
   "execution_count": 23,
   "metadata": {
    "collapsed": true
   },
   "outputs": [],
   "source": [
    "y_white = copy_y_white.copy()\n",
    "y_black = copy_y_black.copy()"
   ]
  },
  {
   "cell_type": "code",
   "execution_count": 46,
   "metadata": {},
   "outputs": [
    {
     "data": {
      "text/plain": [
       "array(['0-1', '1-0', '1/2-1/2'],\n",
       "      dtype='<U7')"
      ]
     },
     "execution_count": 46,
     "metadata": {},
     "output_type": "execute_result"
    }
   ],
   "source": [
    "le = LabelEncoder()\n",
    "le.fit(result)\n",
    "le.classes_"
   ]
  },
  {
   "cell_type": "code",
   "execution_count": 47,
   "metadata": {},
   "outputs": [
    {
     "name": "stdout",
     "output_type": "stream",
     "text": [
      "(50000, 3)\n"
     ]
    }
   ],
   "source": [
    "tr = le.transform(result)\n",
    "enc = OneHotEncoder()\n",
    "enc.fit(tr.reshape(len(tr), 1))\n",
    "encoded_result = enc.transform(tr.reshape(len(tr), 1)).toarray()\n",
    "print(encoded_result.shape)"
   ]
  },
  {
   "cell_type": "code",
   "execution_count": 48,
   "metadata": {},
   "outputs": [
    {
     "data": {
      "text/plain": [
       "list"
      ]
     },
     "execution_count": 48,
     "metadata": {},
     "output_type": "execute_result"
    }
   ],
   "source": [
    "train_result = list(encoded_result[:25000])\n",
    "type(train_result)"
   ]
  },
  {
   "cell_type": "code",
   "execution_count": 9,
   "metadata": {
    "collapsed": true
   },
   "outputs": [],
   "source": [
    "matches = matches_data.values[:, 1]\n",
    "X_white = []\n",
    "X_black = []\n",
    "for match, delta in zip(matches[:25000], delta_data.values[:25000, :]):\n",
    "    match = match.replace('NA', '')\n",
    "    parsed = np.fromstring(match, sep=' ', dtype=int)\n",
    "    if len(parsed) < 3:\n",
    "        del y_white[len(X_white)]\n",
    "        del y_black[len(X_white)]\n",
    "        del train_result[len(X_white)]\n",
    "    else:\n",
    "        white = parsed[0::2]\n",
    "        black = -1 * parsed[1::2]\n",
    "        white_deltas = np.fromstring(delta[1], sep=' ', dtype=int)\n",
    "        black_deltas = -1 * np.fromstring(delta[2], sep=' ', dtype=int)\n",
    "        X_white.append([white.min(), white.max(), white.mean(), white.std(), np.median(white), white_deltas.min(), white_deltas.max(), white_deltas.mean(), white_deltas.std()])\n",
    "        X_black.append([black.min(), black.max(), black.mean(), black.std(), np.median(black), black_deltas.min(), black_deltas.max(), black_deltas.mean(), black_deltas.std()])"
   ]
  },
  {
   "cell_type": "code",
   "execution_count": 11,
   "metadata": {},
   "outputs": [
    {
     "data": {
      "text/plain": [
       "(49944, 49944, 49944)"
      ]
     },
     "execution_count": 11,
     "metadata": {},
     "output_type": "execute_result"
    }
   ],
   "source": [
    "len((X_white+X_black)), len((y_white+y_black)), len(train_result) * 2"
   ]
  },
  {
   "cell_type": "code",
   "execution_count": 10,
   "metadata": {},
   "outputs": [
    {
     "data": {
      "text/plain": [
       "(49944, 12)"
      ]
     },
     "execution_count": 10,
     "metadata": {},
     "output_type": "execute_result"
    }
   ],
   "source": [
    "X = np.hstack((np.array((X_white+X_black)), np.array(train_result + train_result)))\n",
    "X.shape"
   ]
  },
  {
   "cell_type": "code",
   "execution_count": 11,
   "metadata": {},
   "outputs": [
    {
     "data": {
      "text/plain": [
       "LinearRegression(copy_X=True, fit_intercept=True, n_jobs=1, normalize=False)"
      ]
     },
     "execution_count": 11,
     "metadata": {},
     "output_type": "execute_result"
    }
   ],
   "source": [
    "X_train, X_test, y_train, y_test = train_test_split(X, (y_white+y_black), test_size=0.3, random_state=1)\n",
    "y_train = np.array(list(map(int, y_train)))\n",
    "y_train = y_train.reshape((len(y_train), ))\n",
    "m = LinearRegression()\n",
    "m.fit(X_train, y_train)"
   ]
  },
  {
   "cell_type": "code",
   "execution_count": 30,
   "metadata": {},
   "outputs": [
    {
     "data": {
      "text/plain": [
       "207.64845459994129"
      ]
     },
     "execution_count": 30,
     "metadata": {},
     "output_type": "execute_result"
    }
   ],
   "source": [
    "y_test = np.array(list(map(int, y_test)))\n",
    "y_pred = m.predict(X_test)\n",
    "mean_absolute_error(y_pred, y_test)"
   ]
  },
  {
   "cell_type": "code",
   "execution_count": 48,
   "metadata": {},
   "outputs": [
    {
     "data": {
      "text/plain": [
       "array([ -1.51083489e-02,   1.48039792e-02,   4.55559719e-02,\n",
       "        -1.13146295e-01,   3.41224976e-01,  -2.33122035e-02,\n",
       "        -2.91428078e-02,   1.11001635e+00,   2.67150048e-02,\n",
       "        -2.42038092e+01,  -1.47033298e+01,   3.89071390e+01])"
      ]
     },
     "execution_count": 48,
     "metadata": {},
     "output_type": "execute_result"
    }
   ],
   "source": [
    "m.coef_"
   ]
  },
  {
   "cell_type": "markdown",
   "metadata": {},
   "source": [
    "# Send 2"
   ]
  },
  {
   "cell_type": "code",
   "execution_count": 49,
   "metadata": {},
   "outputs": [
    {
     "data": {
      "text/plain": [
       "array([-26.        ,  70.        ,  20.73684211,  26.58223013,\n",
       "        18.        , -27.        ,  30.        ,  -3.57894737,\n",
       "        16.51893902,   0.        ,   0.        ,   1.        ])"
      ]
     },
     "execution_count": 49,
     "metadata": {},
     "output_type": "execute_result"
    }
   ],
   "source": [
    "m2 = LinearRegression()\n",
    "m2.fit(X, (y_white+y_black))\n",
    "X[0]"
   ]
  },
  {
   "cell_type": "code",
   "execution_count": 50,
   "metadata": {},
   "outputs": [
    {
     "data": {
      "text/plain": [
       "array([ -1.78156189e-02,   1.60928986e-02,   5.70899350e-02,\n",
       "        -1.26586054e-01,   3.39506590e-01,  -2.28834593e-02,\n",
       "        -2.44862513e-02,   1.01212258e+00,   1.16985740e-02,\n",
       "        -2.36691758e+01,  -1.30305132e+01,   3.66996890e+01])"
      ]
     },
     "execution_count": 50,
     "metadata": {},
     "output_type": "execute_result"
    }
   ],
   "source": [
    "m2.coef_"
   ]
  },
  {
   "cell_type": "code",
   "execution_count": 16,
   "metadata": {},
   "outputs": [
    {
     "ename": "ValueError",
     "evalue": "all the input array dimensions except for the concatenation axis must match exactly",
     "output_type": "error",
     "traceback": [
      "\u001b[1;31m---------------------------------------------------------------------------\u001b[0m",
      "\u001b[1;31mValueError\u001b[0m                                Traceback (most recent call last)",
      "\u001b[1;32m<ipython-input-16-0baefe295b45>\u001b[0m in \u001b[0;36m<module>\u001b[1;34m()\u001b[0m\n\u001b[0;32m      1\u001b[0m \u001b[0mtest_result\u001b[0m \u001b[1;33m=\u001b[0m \u001b[0mlist\u001b[0m\u001b[1;33m(\u001b[0m\u001b[0mencoded_result\u001b[0m\u001b[1;33m[\u001b[0m\u001b[1;36m25000\u001b[0m\u001b[1;33m:\u001b[0m\u001b[1;33m]\u001b[0m\u001b[1;33m)\u001b[0m\u001b[1;33m\u001b[0m\u001b[0m\n\u001b[0;32m      2\u001b[0m \u001b[0mtype\u001b[0m\u001b[1;33m(\u001b[0m\u001b[0mtest_result\u001b[0m\u001b[1;33m)\u001b[0m\u001b[1;33m\u001b[0m\u001b[0m\n\u001b[1;32m----> 3\u001b[1;33m \u001b[0mX\u001b[0m\u001b[1;33m.\u001b[0m\u001b[0mshape\u001b[0m\u001b[1;33m,\u001b[0m \u001b[0mnp\u001b[0m\u001b[1;33m.\u001b[0m\u001b[0mhstack\u001b[0m\u001b[1;33m(\u001b[0m\u001b[1;33m(\u001b[0m\u001b[0mnp\u001b[0m\u001b[1;33m.\u001b[0m\u001b[0marray\u001b[0m\u001b[1;33m(\u001b[0m\u001b[0mX_test\u001b[0m\u001b[1;33m)\u001b[0m\u001b[1;33m,\u001b[0m \u001b[0mnp\u001b[0m\u001b[1;33m.\u001b[0m\u001b[0marray\u001b[0m\u001b[1;33m(\u001b[0m\u001b[0mtest_result\u001b[0m \u001b[1;33m+\u001b[0m \u001b[0mtest_result\u001b[0m\u001b[1;33m)\u001b[0m\u001b[1;33m)\u001b[0m\u001b[1;33m)\u001b[0m\u001b[1;33m.\u001b[0m\u001b[0mshape\u001b[0m\u001b[1;33m\u001b[0m\u001b[0m\n\u001b[0m",
      "\u001b[1;32mD:\\anaconda2\\envs\\Python36\\lib\\site-packages\\numpy\\core\\shape_base.py\u001b[0m in \u001b[0;36mhstack\u001b[1;34m(tup)\u001b[0m\n\u001b[0;32m    291\u001b[0m         \u001b[1;32mreturn\u001b[0m \u001b[0m_nx\u001b[0m\u001b[1;33m.\u001b[0m\u001b[0mconcatenate\u001b[0m\u001b[1;33m(\u001b[0m\u001b[0marrs\u001b[0m\u001b[1;33m,\u001b[0m \u001b[1;36m0\u001b[0m\u001b[1;33m)\u001b[0m\u001b[1;33m\u001b[0m\u001b[0m\n\u001b[0;32m    292\u001b[0m     \u001b[1;32melse\u001b[0m\u001b[1;33m:\u001b[0m\u001b[1;33m\u001b[0m\u001b[0m\n\u001b[1;32m--> 293\u001b[1;33m         \u001b[1;32mreturn\u001b[0m \u001b[0m_nx\u001b[0m\u001b[1;33m.\u001b[0m\u001b[0mconcatenate\u001b[0m\u001b[1;33m(\u001b[0m\u001b[0marrs\u001b[0m\u001b[1;33m,\u001b[0m \u001b[1;36m1\u001b[0m\u001b[1;33m)\u001b[0m\u001b[1;33m\u001b[0m\u001b[0m\n\u001b[0m\u001b[0;32m    294\u001b[0m \u001b[1;33m\u001b[0m\u001b[0m\n\u001b[0;32m    295\u001b[0m \u001b[1;33m\u001b[0m\u001b[0m\n",
      "\u001b[1;31mValueError\u001b[0m: all the input array dimensions except for the concatenation axis must match exactly"
     ]
    }
   ],
   "source": [
    "test_result = list(encoded_result[25000:])\n",
    "type(test_result)\n",
    "X.shape, np.hstack((np.array(X_test), np.array(test_result + test_result))).shape"
   ]
  },
  {
   "cell_type": "code",
   "execution_count": 17,
   "metadata": {
    "collapsed": true
   },
   "outputs": [],
   "source": [
    "X_test = []\n",
    "for match, delta in zip(matches[25000:], delta_data.values[25000:, :]):\n",
    "    match = match.replace('NA', '')\n",
    "    parsed = np.fromstring(match, sep=' ', dtype=int)\n",
    "    if len(parsed) > 1:\n",
    "        white = parsed[0::2]\n",
    "        black = -1 * parsed[1::2]\n",
    "        white_deltas = np.fromstring(delta[1], sep=' ', dtype=int)\n",
    "        black_deltas = -1 * np.fromstring(delta[2], sep=' ', dtype=int)\n",
    "        X_test.append([white.min(), white.max(), white.mean(), white.std(), np.median(white), white_deltas.min(), white_deltas.max(), white_deltas.mean(), white_deltas.std()])\n",
    "        X_test.append([black.min(), black.max(), black.mean(), black.std(), np.median(black), black_deltas.min(), black_deltas.max(), black_deltas.mean(), black_deltas.std()])\n",
    "    else:\n",
    "        X_test.append(X_test[-2])\n",
    "        X_test.append(X_test[-1])"
   ]
  },
  {
   "cell_type": "code",
   "execution_count": 52,
   "metadata": {
    "collapsed": true
   },
   "outputs": [],
   "source": [
    "y_pred2 = m2.predict(np.hstack((np.array(X_test), np.array(test_result + test_result))))"
   ]
  },
  {
   "cell_type": "code",
   "execution_count": 53,
   "metadata": {
    "collapsed": true
   },
   "outputs": [],
   "source": [
    "df = pd.DataFrame({'Event': list(range(25001, 50001)), 'WhiteElo': y_pred2[::2], 'BlackElo':y_pred2[1::2]})\n",
    "df.to_csv(\"result2.csv\", index=None, columns=['Event', 'WhiteElo', 'BlackElo'])"
   ]
  },
  {
   "cell_type": "markdown",
   "metadata": {},
   "source": [
    "# Random Forest"
   ]
  },
  {
   "cell_type": "code",
   "execution_count": 2,
   "metadata": {
    "collapsed": true
   },
   "outputs": [],
   "source": [
    "from sklearn.ensemble import RandomForestRegressor"
   ]
  },
  {
   "cell_type": "code",
   "execution_count": 4,
   "metadata": {},
   "outputs": [
    {
     "data": {
      "text/plain": [
       "dict_keys(['bootstrap', 'criterion', 'max_depth', 'max_features', 'max_leaf_nodes', 'min_impurity_decrease', 'min_impurity_split', 'min_samples_leaf', 'min_samples_split', 'min_weight_fraction_leaf', 'n_estimators', 'n_jobs', 'oob_score', 'random_state', 'verbose', 'warm_start'])"
      ]
     },
     "execution_count": 4,
     "metadata": {},
     "output_type": "execute_result"
    }
   ],
   "source": [
    "regr = RandomForestRegressor(n_estimators=100, max_depth=5, random_state=0)\n",
    "regr.get_params().keys()"
   ]
  },
  {
   "cell_type": "code",
   "execution_count": 13,
   "metadata": {},
   "outputs": [
    {
     "data": {
      "text/plain": [
       "RandomForestRegressor(bootstrap=True, criterion='mse', max_depth=5,\n",
       "           max_features='auto', max_leaf_nodes=None,\n",
       "           min_impurity_decrease=0.0, min_impurity_split=None,\n",
       "           min_samples_leaf=1, min_samples_split=2,\n",
       "           min_weight_fraction_leaf=0.0, n_estimators=100, n_jobs=1,\n",
       "           oob_score=False, random_state=0, verbose=0, warm_start=False)"
      ]
     },
     "execution_count": 13,
     "metadata": {},
     "output_type": "execute_result"
    }
   ],
   "source": [
    "regr.fit(X_train, y_train)"
   ]
  },
  {
   "cell_type": "code",
   "execution_count": 15,
   "metadata": {},
   "outputs": [
    {
     "data": {
      "text/plain": [
       "198.75929905361016"
      ]
     },
     "execution_count": 15,
     "metadata": {},
     "output_type": "execute_result"
    }
   ],
   "source": [
    "y_test = np.array(list(map(int, y_test)))\n",
    "y_pred = regr.predict(X_test)\n",
    "mean_absolute_error(y_pred, y_test)"
   ]
  },
  {
   "cell_type": "markdown",
   "metadata": {},
   "source": [
    "# Send Random Forest"
   ]
  },
  {
   "cell_type": "code",
   "execution_count": 21,
   "metadata": {},
   "outputs": [
    {
     "data": {
      "text/plain": [
       "RandomForestRegressor(bootstrap=True, criterion='mse', max_depth=5,\n",
       "           max_features='auto', max_leaf_nodes=None,\n",
       "           min_impurity_decrease=0.0, min_impurity_split=None,\n",
       "           min_samples_leaf=1, min_samples_split=2,\n",
       "           min_weight_fraction_leaf=0.0, n_estimators=500, n_jobs=1,\n",
       "           oob_score=False, random_state=0, verbose=0, warm_start=False)"
      ]
     },
     "execution_count": 21,
     "metadata": {},
     "output_type": "execute_result"
    }
   ],
   "source": [
    "regr = RandomForestRegressor(n_estimators=500, max_depth=5, random_state=0)\n",
    "regr.fit(X, (y_white+y_black))"
   ]
  },
  {
   "cell_type": "code",
   "execution_count": 22,
   "metadata": {
    "collapsed": true
   },
   "outputs": [],
   "source": [
    "y_pred2 = regr.predict(np.hstack((np.array(X_test), np.array(test_result + test_result))))"
   ]
  },
  {
   "cell_type": "code",
   "execution_count": 23,
   "metadata": {
    "collapsed": true
   },
   "outputs": [],
   "source": [
    "df = pd.DataFrame({'Event': list(range(25001, 50001)), 'WhiteElo': y_pred2[::2], 'BlackElo':y_pred2[1::2]})\n",
    "df.to_csv(\"result3.csv\", index=None, columns=['Event', 'WhiteElo', 'BlackElo'])"
   ]
  },
  {
   "cell_type": "markdown",
   "metadata": {},
   "source": [
    "# early game, mid game, late game"
   ]
  },
  {
   "cell_type": "code",
   "execution_count": 133,
   "metadata": {
    "collapsed": true
   },
   "outputs": [],
   "source": [
    "matches_data = pd.read_csv('stockfish.csv', sep=',')\n",
    "delta_data = pd.read_csv('deltas2.csv', sep=',')\n",
    "y = pd.read_csv('y.csv', sep=',')\n",
    "y_white = list(y.values[:, 0])\n",
    "y_black = list(y.values[:, 1])\n",
    "result = list(y.values[:, 2]) + list(y.values[:, 3])"
   ]
  },
  {
   "cell_type": "code",
   "execution_count": 134,
   "metadata": {},
   "outputs": [
    {
     "name": "stdout",
     "output_type": "stream",
     "text": [
      "(50000, 3)\n"
     ]
    },
    {
     "data": {
      "text/plain": [
       "list"
      ]
     },
     "execution_count": 134,
     "metadata": {},
     "output_type": "execute_result"
    }
   ],
   "source": [
    "le = LabelEncoder()\n",
    "le.fit(result)\n",
    "le.classes_\n",
    "tr = le.transform(result)\n",
    "enc = OneHotEncoder()\n",
    "enc.fit(tr.reshape(len(tr), 1))\n",
    "encoded_result = enc.transform(tr.reshape(len(tr), 1)).toarray()\n",
    "print(encoded_result.shape)\n",
    "train_result = list(encoded_result[:25000])\n",
    "type(train_result)"
   ]
  },
  {
   "cell_type": "code",
   "execution_count": 135,
   "metadata": {},
   "outputs": [],
   "source": [
    "matches = matches_data.values[:, 1]\n",
    "X_white = []\n",
    "X_black = []\n",
    "for match, delta in zip(matches[:25000], delta_data.values[:25000, :]):\n",
    "    match = match.replace('NA', '')\n",
    "    parsed = np.fromstring(match, sep=' ', dtype=int)\n",
    "    if len(parsed) < 9:\n",
    "        del y_white[len(X_white)]\n",
    "        del y_black[len(X_white)]\n",
    "        del train_result[len(X_white)]\n",
    "    else:\n",
    "        white = parsed[0::2]\n",
    "        black = -1 * parsed[1::2]\n",
    "        white_deltas = np.fromstring(delta[1], sep=' ', dtype=int)\n",
    "        black_deltas = -1 * np.fromstring(delta[2], sep=' ', dtype=int)\n",
    "        if len(white_deltas)//3 == 0:\n",
    "            print(black_deltas[len(black_deltas)//3:2 * len(black_deltas)//3].mean())\n",
    "        X_white.append([white.min(), white.max(), white.mean(), white.std(), np.median(white), white_deltas.min(), white_deltas.max(), white_deltas.mean(), white_deltas.std(), white_deltas[:len(white_deltas)//3].mean(), white_deltas[:len(white_deltas)//3].std(), white_deltas[len(white_deltas)//3:2 * len(white_deltas)//3].mean(), white_deltas[len(white_deltas)//3:2 * len(white_deltas)//3].std(), white_deltas[2 * len(white_deltas)//3:].mean(), white_deltas[2 * len(white_deltas)//3:].std(), black.min(), black.max(), black.mean(), black.std(), np.median(black), black_deltas.min(), black_deltas.max(), black_deltas.mean(), black_deltas.std(), black_deltas[:len(black_deltas)//3].mean(), black_deltas[:len(black_deltas)//3].std(), black_deltas[len(black_deltas)//3:2 * len(black_deltas)//3].mean(), black_deltas[len(black_deltas)//3:2 * len(black_deltas)//3].std(), black_deltas[2 * len(black_deltas)//3:].mean(), black_deltas[2 * len(black_deltas)//3:].std()])\n",
    "        X_black.append([black.min(), black.max(), black.mean(), black.std(), np.median(black), black_deltas.min(), black_deltas.max(), black_deltas.mean(), black_deltas.std(), black_deltas[:len(black_deltas)//3].mean(), black_deltas[:len(black_deltas)//3].std(), black_deltas[len(black_deltas)//3:2 * len(black_deltas)//3].mean(), black_deltas[len(black_deltas)//3:2 * len(black_deltas)//3].std(), black_deltas[2 * len(black_deltas)//3:].mean(), black_deltas[2 * len(black_deltas)//3:].std(), white.min(), white.max(), white.mean(), white.std(), np.median(white), white_deltas.min(), white_deltas.max(), white_deltas.mean(), white_deltas.std(), white_deltas[:len(white_deltas)//3].mean(), white_deltas[:len(white_deltas)//3].std(), white_deltas[len(white_deltas)//3:2 * len(white_deltas)//3].mean(), white_deltas[len(white_deltas)//3:2 * len(white_deltas)//3].std(), white_deltas[2 * len(white_deltas)//3:].mean(), white_deltas[2 * len(white_deltas)//3:].std()])"
   ]
  },
  {
   "cell_type": "code",
   "execution_count": 136,
   "metadata": {},
   "outputs": [
    {
     "data": {
      "text/plain": [
       "(49900, 49900, 49900)"
      ]
     },
     "execution_count": 136,
     "metadata": {},
     "output_type": "execute_result"
    }
   ],
   "source": [
    "len((X_white+X_black)), len((y_white+y_black)), len(train_result) * 2"
   ]
  },
  {
   "cell_type": "code",
   "execution_count": 137,
   "metadata": {},
   "outputs": [
    {
     "data": {
      "text/plain": [
       "(49900, 33)"
      ]
     },
     "execution_count": 137,
     "metadata": {},
     "output_type": "execute_result"
    }
   ],
   "source": [
    "X = np.hstack((np.array((X_white+X_black)), np.array(train_result + train_result)))\n",
    "X.shape"
   ]
  },
  {
   "cell_type": "code",
   "execution_count": 138,
   "metadata": {
    "collapsed": true
   },
   "outputs": [],
   "source": [
    "X_train, X_test, y_train, y_test = train_test_split(X, (y_white+y_black), test_size=0.05, random_state=1)\n",
    "y_train = np.array(list(map(int, y_train)))\n",
    "y_train = y_train.reshape((len(y_train), ))"
   ]
  },
  {
   "cell_type": "code",
   "execution_count": 143,
   "metadata": {},
   "outputs": [
    {
     "data": {
      "text/plain": [
       "RandomForestRegressor(bootstrap=True, criterion='mse', max_depth=5,\n",
       "           max_features='auto', max_leaf_nodes=None,\n",
       "           min_impurity_decrease=0.0, min_impurity_split=None,\n",
       "           min_samples_leaf=1, min_samples_split=2,\n",
       "           min_weight_fraction_leaf=0.0, n_estimators=100, n_jobs=1,\n",
       "           oob_score=False, random_state=0, verbose=0, warm_start=False)"
      ]
     },
     "execution_count": 143,
     "metadata": {},
     "output_type": "execute_result"
    }
   ],
   "source": [
    "regr = RandomForestRegressor(n_estimators=100, max_depth=5, random_state=0)\n",
    "regr.fit(X_train, y_train)"
   ]
  },
  {
   "cell_type": "code",
   "execution_count": 144,
   "metadata": {},
   "outputs": [
    {
     "data": {
      "text/plain": [
       "192.10443889840732"
      ]
     },
     "execution_count": 144,
     "metadata": {},
     "output_type": "execute_result"
    }
   ],
   "source": [
    "y_test = np.array(list(map(int, y_test)))\n",
    "y_pred = regr.predict(X_test)\n",
    "mean_absolute_error(y_pred, y_test)"
   ]
  },
  {
   "cell_type": "markdown",
   "metadata": {},
   "source": [
    "# Send last modified features"
   ]
  },
  {
   "cell_type": "code",
   "execution_count": 145,
   "metadata": {},
   "outputs": [
    {
     "data": {
      "text/plain": [
       "RandomForestRegressor(bootstrap=True, criterion='mse', max_depth=9,\n",
       "           max_features=1.0, max_leaf_nodes=None,\n",
       "           min_impurity_decrease=0.0, min_impurity_split=None,\n",
       "           min_samples_leaf=5, min_samples_split=50,\n",
       "           min_weight_fraction_leaf=0.0, n_estimators=500, n_jobs=1,\n",
       "           oob_score=False, random_state=0, verbose=0, warm_start=False)"
      ]
     },
     "execution_count": 145,
     "metadata": {},
     "output_type": "execute_result"
    }
   ],
   "source": [
    "regr = RandomForestRegressor(n_estimators=500, min_samples_split=50, min_samples_leaf=5, max_features=1.0, max_depth=9, bootstrap=True, random_state=0)\n",
    "regr.fit(X, (y_white+y_black))"
   ]
  },
  {
   "cell_type": "code",
   "execution_count": 146,
   "metadata": {
    "collapsed": true
   },
   "outputs": [],
   "source": [
    "X_test = []\n",
    "for match, delta in zip(matches[25000:], delta_data.values[25000:, :]):\n",
    "    match = match.replace('NA', '')\n",
    "    parsed = np.fromstring(match, sep=' ', dtype=int)\n",
    "    if len(parsed) > 9:\n",
    "        white = parsed[0::2]\n",
    "        black = -1 * parsed[1::2]\n",
    "        white_deltas = np.fromstring(delta[1], sep=' ', dtype=int)\n",
    "        black_deltas = -1 * np.fromstring(delta[2], sep=' ', dtype=int)\n",
    "        X_test.append([white.min(), white.max(), white.mean(), white.std(), np.median(white), white_deltas.min(), white_deltas.max(), white_deltas.mean(), white_deltas.std(), white_deltas[:len(white_deltas)//3].mean(), white_deltas[:len(white_deltas)//3].std(), white_deltas[len(white_deltas)//3:2 * len(white_deltas)//3].mean(), white_deltas[len(white_deltas)//3:2 * len(white_deltas)//3].std(), white_deltas[2 * len(white_deltas)//3:].mean(), white_deltas[2 * len(white_deltas)//3:].std(), black.min(), black.max(), black.mean(), black.std(), np.median(black), black_deltas.min(), black_deltas.max(), black_deltas.mean(), black_deltas.std(), black_deltas[:len(black_deltas)//3].mean(), black_deltas[:len(black_deltas)//3].std(), black_deltas[len(black_deltas)//3:2 * len(black_deltas)//3].mean(), black_deltas[len(black_deltas)//3:2 * len(black_deltas)//3].std(), black_deltas[2 * len(black_deltas)//3:].mean(), black_deltas[2 * len(black_deltas)//3:].std()])\n",
    "        X_test.append([black.min(), black.max(), black.mean(), black.std(), np.median(black), black_deltas.min(), black_deltas.max(), black_deltas.mean(), black_deltas.std(), black_deltas[:len(black_deltas)//3].mean(), black_deltas[:len(black_deltas)//3].std(), black_deltas[len(black_deltas)//3:2 * len(black_deltas)//3].mean(), black_deltas[len(black_deltas)//3:2 * len(black_deltas)//3].std(), black_deltas[2 * len(black_deltas)//3:].mean(), black_deltas[2 * len(black_deltas)//3:].std(), white.min(), white.max(), white.mean(), white.std(), np.median(white), white_deltas.min(), white_deltas.max(), white_deltas.mean(), white_deltas.std(), white_deltas[:len(white_deltas)//3].mean(), white_deltas[:len(white_deltas)//3].std(), white_deltas[len(white_deltas)//3:2 * len(white_deltas)//3].mean(), white_deltas[len(white_deltas)//3:2 * len(white_deltas)//3].std(), white_deltas[2 * len(white_deltas)//3:].mean(), white_deltas[2 * len(white_deltas)//3:].std()])\n",
    "    else:\n",
    "        X_test.append(X_test[-2])\n",
    "        X_test.append(X_test[-1])"
   ]
  },
  {
   "cell_type": "code",
   "execution_count": 147,
   "metadata": {},
   "outputs": [
    {
     "data": {
      "text/plain": [
       "((49900, 33), (50000, 33))"
      ]
     },
     "execution_count": 147,
     "metadata": {},
     "output_type": "execute_result"
    }
   ],
   "source": [
    "test_result = list(encoded_result[25000:])\n",
    "type(test_result)\n",
    "X.shape, np.hstack((np.array(X_test), np.array(test_result + test_result))).shape"
   ]
  },
  {
   "cell_type": "code",
   "execution_count": 148,
   "metadata": {
    "collapsed": true
   },
   "outputs": [],
   "source": [
    "y_pred2 = regr.predict(np.hstack((np.array(X_test), np.array(test_result + test_result))))"
   ]
  },
  {
   "cell_type": "code",
   "execution_count": 149,
   "metadata": {
    "collapsed": true
   },
   "outputs": [],
   "source": [
    "df = pd.DataFrame({'Event': list(range(25001, 50001)), 'WhiteElo': y_pred2[::2], 'BlackElo':y_pred2[1::2]})\n",
    "df.to_csv(\"result7.csv\", index=None, columns=['Event', 'WhiteElo', 'BlackElo'])"
   ]
  },
  {
   "cell_type": "markdown",
   "metadata": {},
   "source": [
    "# Use grid to estimate params"
   ]
  },
  {
   "cell_type": "code",
   "execution_count": 16,
   "metadata": {},
   "outputs": [],
   "source": [
    "from sklearn import model_selection, grid_search, metrics"
   ]
  },
  {
   "cell_type": "code",
   "execution_count": 93,
   "metadata": {},
   "outputs": [
    {
     "data": {
      "text/plain": [
       "dict_keys(['bootstrap', 'criterion', 'max_depth', 'max_features', 'max_leaf_nodes', 'min_impurity_decrease', 'min_impurity_split', 'min_samples_leaf', 'min_samples_split', 'min_weight_fraction_leaf', 'n_estimators', 'n_jobs', 'oob_score', 'random_state', 'verbose', 'warm_start'])"
      ]
     },
     "execution_count": 93,
     "metadata": {},
     "output_type": "execute_result"
    }
   ],
   "source": [
    "gr = RandomForestRegressor(bootstrap=True, random_state=0)\n",
    "gr.get_params().keys()"
   ]
  },
  {
   "cell_type": "code",
   "execution_count": 94,
   "metadata": {},
   "outputs": [],
   "source": [
    "parameters_grid = {\n",
    "    'max_depth': list(range(7, 10, 2)),\n",
    "    'min_samples_split': list(range(30, 51, 10)),\n",
    "    'min_samples_leaf': list(range(5, 10, 2)),\n",
    "}"
   ]
  },
  {
   "cell_type": "code",
   "execution_count": 39,
   "metadata": {},
   "outputs": [],
   "source": [
    "cv = model_selection.StratifiedShuffleSplit(n_splits=10, test_size=0.2, random_state=0)"
   ]
  },
  {
   "cell_type": "code",
   "execution_count": 95,
   "metadata": {},
   "outputs": [],
   "source": [
    "grid_cv = grid_search.GridSearchCV(gr, parameters_grid, scoring='neg_mean_absolute_error')"
   ]
  },
  {
   "cell_type": "code",
   "execution_count": 49,
   "metadata": {},
   "outputs": [],
   "source": []
  },
  {
   "cell_type": "code",
   "execution_count": 96,
   "metadata": {},
   "outputs": [
    {
     "name": "stdout",
     "output_type": "stream",
     "text": [
      "Wall time: 2min 16s\n"
     ]
    },
    {
     "data": {
      "text/plain": [
       "GridSearchCV(cv=None, error_score='raise',\n",
       "       estimator=RandomForestRegressor(bootstrap=True, criterion='mse', max_depth=None,\n",
       "           max_features='auto', max_leaf_nodes=None,\n",
       "           min_impurity_decrease=0.0, min_impurity_split=None,\n",
       "           min_samples_leaf=1, min_samples_split=2,\n",
       "           min_weight_fraction_leaf=0.0, n_estimators=10, n_jobs=1,\n",
       "           oob_score=False, random_state=0, verbose=0, warm_start=False),\n",
       "       fit_params={}, iid=True, n_jobs=1,\n",
       "       param_grid={'max_depth': [7, 9], 'min_samples_split': [30, 40, 50], 'min_samples_leaf': [5, 7, 9]},\n",
       "       pre_dispatch='2*n_jobs', refit=True,\n",
       "       scoring='neg_mean_absolute_error', verbose=0)"
      ]
     },
     "execution_count": 96,
     "metadata": {},
     "output_type": "execute_result"
    }
   ],
   "source": [
    "%%time\n",
    "grid_cv.fit(X, (y_white+y_black))"
   ]
  },
  {
   "cell_type": "code",
   "execution_count": 98,
   "metadata": {},
   "outputs": [
    {
     "name": "stdout",
     "output_type": "stream",
     "text": [
      "-196.90821882023863\n",
      "{'max_depth': 9, 'min_samples_leaf': 5, 'min_samples_split': 50}\n"
     ]
    }
   ],
   "source": [
    "print(grid_cv.best_score_)\n",
    "print(grid_cv.best_params_)"
   ]
  },
  {
   "cell_type": "markdown",
   "metadata": {},
   "source": [
    "# Split match into 5 parts"
   ]
  },
  {
   "cell_type": "code",
   "execution_count": 109,
   "metadata": {},
   "outputs": [],
   "source": [
    "matches = matches_data.values[:, 1]\n",
    "X_white = []\n",
    "X_black = []\n",
    "for match, delta in zip(matches[:25000], delta_data.values[:25000, :]):\n",
    "    match = match.replace('NA', '')\n",
    "    parsed = np.fromstring(match, sep=' ', dtype=int)\n",
    "    if len(parsed) < 10:\n",
    "        del y_white[len(X_white)]\n",
    "        del y_black[len(X_white)]\n",
    "        del train_result[len(X_white)]\n",
    "    else:\n",
    "        white = parsed[0::2]\n",
    "        black = -1 * parsed[1::2]\n",
    "        white_deltas = np.fromstring(delta[1], sep=' ', dtype=int)\n",
    "        black_deltas = -1 * np.fromstring(delta[2], sep=' ', dtype=int)\n",
    "        if len(white_deltas)//5 == 0:\n",
    "            print(black_deltas[len(black_deltas)//5:2 * len(black_deltas)//5].mean())\n",
    "        X_white.append([white.min(), white.max(), white.mean(), white.std(), np.median(white), white_deltas.min(), white_deltas.max(), white_deltas.mean(), white_deltas.std(), white_deltas[:len(white_deltas)//5].mean(), white_deltas[len(white_deltas)//5:2 * len(white_deltas)//5].mean(), white_deltas[2 * len(white_deltas)//5:3*len(white_deltas)//5].mean(), white_deltas[3 * len(white_deltas)//5:4*len(white_deltas)//5].mean(), white_deltas[4 * len(white_deltas)//5:].mean()])\n",
    "        X_black.append([black.min(), black.max(), black.mean(), black.std(), np.median(black), black_deltas.min(), black_deltas.max(), black_deltas.mean(), black_deltas.std(), black_deltas[:len(black_deltas)//5].mean(), black_deltas[len(black_deltas)//5:2 * len(black_deltas)//5].mean(), black_deltas[2 * len(black_deltas)//5:3*len(black_deltas)//5].mean(), black_deltas[3 * len(black_deltas)//5:4*len(black_deltas)//5].mean(), black_deltas[4 * len(black_deltas)//5:].mean()])"
   ]
  }
 ],
 "metadata": {
  "kernelspec": {
   "display_name": "Python36",
   "language": "python",
   "name": "python36"
  },
  "language_info": {
   "codemirror_mode": {
    "name": "ipython",
    "version": 3
   },
   "file_extension": ".py",
   "mimetype": "text/x-python",
   "name": "python",
   "nbconvert_exporter": "python",
   "pygments_lexer": "ipython3",
   "version": "3.6.3"
  }
 },
 "nbformat": 4,
 "nbformat_minor": 2
}
